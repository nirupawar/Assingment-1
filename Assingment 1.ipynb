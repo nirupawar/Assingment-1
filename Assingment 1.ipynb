{
 "cells": [
  {
   "cell_type": "markdown",
   "id": "6802fb44",
   "metadata": {},
   "source": [
    "Assignment 1 Solutions\n",
    "1. In the below elements which of them are values or an expression? eg:- values can be integer or string and expressions will be mathematical operators.\n",
    "*,'hello', -87.8,-,/,+,6\n",
    "Answer: There are a total of 4 Operators and 3 Expressions,\n",
    "They are:\n",
    "Operators: *,-,/,+\n",
    "Expressions: 'hello', 87.8, 6\n",
    "\n",
    "2. What is the difference between string and variable?\n",
    "Answer: A Variable is used to store of information, and a String is a type of information you would store in a Variable. A               String is a group of characters or a single character usually enclosed in Double quotes \" \" or single quotes ' '.\n",
    "\n",
    "3. Describe three different Data Types ?\n",
    "Answer: Three fundamental Data types in python are int, float, complex.\n",
    "\n",
    "1)int data type: We can use int data type to represent whole numbers (integral values).\n",
    "  Example= Int: 2,34.\n",
    "2)float data type: We can use float data type to represent floating point values (decimal values).\n",
    "  Example= Float: 0.6, 25,60 .\n",
    "3)complex data type: Complex number is represented by complex class. It is specified as (real part) + (imaginary part)j.\n",
    "  Example= Complex: 8j, 2-4j.\n",
    "  \n",
    "4. What is an expression made up of? What do all expressions do?\n",
    "Answer: An expression is a combination of values, variables, operators, and calls to functions. Expressions need to be                   evaluated. If we ask Python to print an expression, the interpreter evaluates the expression and displays the result.\n",
    "Example: 3*2+6/3 is an expression which evaluates to 9.\n",
    "\n",
    "5. This assignment statements, like spam = 10. What is the difference between an\n",
    "   expression and a statement?\n",
    "Answer: An expression is a combination of values, variables, and operators.When we type an expression at the prompt, the                 interpreter evaluates it, which means that it finds the value of the expression.\n",
    "\n",
    "Example: 3*2+6/3 is an example of an expression.\n",
    "\n",
    "A statement is a unit of code that has an effect, like creating a variable or displaying a value.When we type a statement, the interpreter executes it, which means that it does whatever the statement says. In general, statements don’t have values.\n",
    "\n",
    "Example: variable declaration and assignment are statements because they do not return a value."
   ]
  },
  {
   "cell_type": "markdown",
   "id": "006fe230",
   "metadata": {},
   "source": [
    "6. After running the following code, what does the variable bacon contain?\n",
    "bacon = 22\n",
    "bacon + 1\n",
    "\n",
    "Answer:The variable bacon is set to 22 .The expression bacon + 1 does not reassign the value in bacon (that would the case if          the expression is like bacon = bacon + 1 instead of bacon + 1)."
   ]
  },
  {
   "cell_type": "code",
   "execution_count": 3,
   "id": "96ee2388",
   "metadata": {},
   "outputs": [
    {
     "name": "stdout",
     "output_type": "stream",
     "text": [
      "22\n"
     ]
    }
   ],
   "source": [
    "\"Question 6 Practical\"\n",
    "bacon = 22\n",
    "bacon + 1\n",
    "print(bacon)"
   ]
  },
  {
   "cell_type": "markdown",
   "id": "e3cc437e",
   "metadata": {},
   "source": [
    "7. What should the values of the following two terms be?\n",
    "'spam' + 'spamspam'\n",
    "'spam'*3\n",
    "\n",
    "Answer:Both expressions evaluate to the string 'spamspamspam' Where as the first expression follows String Addition and the second expression follows String Multiplication.\n"
   ]
  },
  {
   "cell_type": "code",
   "execution_count": 4,
   "id": "7bff5513",
   "metadata": {},
   "outputs": [
    {
     "name": "stdout",
     "output_type": "stream",
     "text": [
      "spamspamspam\n",
      "spamspamspam\n"
     ]
    }
   ],
   "source": [
    "print('spam'+'spamspam') #String Addition\n",
    "print('spam'*3) #String Multiplication"
   ]
  },
  {
   "cell_type": "markdown",
   "id": "709357d3",
   "metadata": {},
   "source": [
    "8. Why is eggs a valid variable name while 100 is invalid?\n",
    "\n",
    "Answer: As per python,Variable names cannot begin with a number. The python rules for naming a variable are :-\n",
    "\n",
    "1)Variable name must start with a letter or the underscore character.\n",
    "2)Variable name cannot start with a number.\n",
    "3)Variable name can only contain alpha-numeric characters and underscores (A-z, 0-9, & _ ).\n",
    "4)Variable names are case-sensitive (name, INEURON and ineuron are three different variables).\n",
    "5)The reserved words(keywords) cannot be used naming the variable.\n",
    "\n",
    "Below we can see Python has accepted eggs as a variable name but it is showing error for 100 as a variable name. "
   ]
  },
  {
   "cell_type": "code",
   "execution_count": 5,
   "id": "94f4701d",
   "metadata": {},
   "outputs": [
    {
     "ename": "SyntaxError",
     "evalue": "cannot assign to literal (2451985976.py, line 2)",
     "output_type": "error",
     "traceback": [
      "\u001b[1;36m  Input \u001b[1;32mIn [5]\u001b[1;36m\u001b[0m\n\u001b[1;33m    100 = \"hello\"\u001b[0m\n\u001b[1;37m    ^\u001b[0m\n\u001b[1;31mSyntaxError\u001b[0m\u001b[1;31m:\u001b[0m cannot assign to literal\n"
     ]
    }
   ],
   "source": [
    "eggs = 23\n",
    "100 = \"hello\""
   ]
  },
  {
   "cell_type": "markdown",
   "id": "e89774dd",
   "metadata": {},
   "source": [
    "9. What three functions can be used to get the integer, floating-point number, or string\n",
    "   version of a value?\n",
    "   \n",
    "Answer: The int(),float(),and str() functions will evaluate to the integer,floating-point number,string version of the value             passed to them.\n",
    "\n"
   ]
  },
  {
   "cell_type": "code",
   "execution_count": 1,
   "id": "e450cce0",
   "metadata": {},
   "outputs": [
    {
     "name": "stdout",
     "output_type": "stream",
     "text": [
      "int(10.4) -> 10\n",
      "float(9) -> 9.0\n",
      "str(10) -> 10\n"
     ]
    }
   ],
   "source": [
    "print('int(10.4) ->',int(10.4)) #int() converts given input to int.\n",
    "print('float(9) ->',float(9)) #float() converts given input to float.\n",
    "print('str(10) ->',str(10)) #str() converts given output to string. "
   ]
  },
  {
   "cell_type": "markdown",
   "id": "b7e3e1b1",
   "metadata": {},
   "source": [
    "10. Why does this expression cause an error? How can you fix it?\n",
    "'I have eaten' + 99 +  'burritos.'\n",
    "\n",
    "Answer: This cause of error is 99.because 99 is not a string. 99 must be typecasted to a string to fix this error. the correct           way is:\n",
    "Input: 'I have eaten ' + str(99) + 'burritos.'\n",
    "Output: 'I have eaten 99 burritos.'"
   ]
  },
  {
   "cell_type": "code",
   "execution_count": 6,
   "id": "baef1d06",
   "metadata": {},
   "outputs": [
    {
     "name": "stdout",
     "output_type": "stream",
     "text": [
      "I have eaten 99 burritos.\n"
     ]
    }
   ],
   "source": [
    "print('I have eaten ' + str(99) + ' burritos.')"
   ]
  }
 ],
 "metadata": {
  "kernelspec": {
   "display_name": "Python 3 (ipykernel)",
   "language": "python",
   "name": "python3"
  },
  "language_info": {
   "codemirror_mode": {
    "name": "ipython",
    "version": 3
   },
   "file_extension": ".py",
   "mimetype": "text/x-python",
   "name": "python",
   "nbconvert_exporter": "python",
   "pygments_lexer": "ipython3",
   "version": "3.9.12"
  }
 },
 "nbformat": 4,
 "nbformat_minor": 5
}
